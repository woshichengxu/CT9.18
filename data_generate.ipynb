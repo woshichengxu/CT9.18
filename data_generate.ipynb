{
 "cells": [
  {
   "cell_type": "code",
   "execution_count": 5,
   "id": "29148538",
   "metadata": {},
   "outputs": [
    {
     "name": "stdout",
     "output_type": "stream",
     "text": [
      "136\n"
     ]
    }
   ],
   "source": [
    "import os\n",
    "from sklearn.model_selection import StratifiedKFold\n",
    "from sklearn.model_selection import KFold\n",
    "\n",
    "\n",
    "\n",
    "\n",
    "datas_path = r'C:\\Users\\abc\\Desktop\\Image_NII\\Image_NII'\n",
    "\n",
    "class_name = os.listdir(datas_path)\n",
    "\n",
    "patients_data = []\n",
    "class_data = []\n",
    "\n",
    "for single_class in class_name:\n",
    "    patients_name = os.listdir(os.path.join(datas_path, single_class))\n",
    "\n",
    "    for patient in patients_name:\n",
    "        patient_datas = os.listdir(os.path.join(datas_path, single_class, patient))\n",
    "\n",
    "        for patient_data_path in patient_datas:\n",
    "\n",
    "            patients_data.append(os.path.join(datas_path, single_class, patient, patient_data_path) + ' ' + single_class)\n",
    "            class_data.append(single_class)\n",
    "\n",
    "\n",
    "all_data_num = len(patients_data)\n",
    "print(all_data_num)\n",
    "\n",
    "\n",
    "\n",
    "\n",
    "seed = 42\n",
    "folds = StratifiedKFold(n_splits=5, shuffle=True, random_state=seed)\n",
    "kfolds = StratifiedKFold(n_splits=4, shuffle=True, random_state=seed)\n",
    "split_save_path = r'./data_list'\n",
    "\n",
    "\n",
    "for fold_i, (train_indexes, test_indexes) in enumerate(folds.split(patients_data,class_data)):\n",
    "    train1=[]\n",
    "    trainc=[]\n",
    "    test_paths = []\n",
    "    for train_index in train_indexes:\n",
    "        trainname=patients_data[train_index].split(' ')[0]\n",
    "        trainclass=patients_data[train_index].split(' ')[1]\n",
    "        train1.append(trainname)\n",
    "        trainc.append(trainclass)\n",
    "    for foldi, (train_indexe, val_indexe) in enumerate(kfolds.split(train1,trainc)):\n",
    "        train_paths = []\n",
    "        val_paths = []\n",
    "        for train_i in train_indexe:\n",
    "            train_paths.append(patients_data[train_i])\n",
    "        for val_i in val_indexe:\n",
    "            val_paths.append(patients_data[val_i])\n",
    "        for test_index in test_indexes:\n",
    "            test_paths.append(patients_data[test_index])\n",
    "        train_txt_path = os.path.join(split_save_path, 'train_fold' + str(fold_i)+'f'+str(foldi) + '.txt')\n",
    "        for i in train_paths:\n",
    "            f = open(train_txt_path, 'a', encoding=\"utf-8\")\n",
    "            f.write(str(i) + '\\n')\n",
    "            f.close()\n",
    "        # print(test_txt_path)\n",
    "        val_txt_path = os.path.join(split_save_path, 'val_fold' + str(fold_i)+'f'+str(foldi) + '.txt')\n",
    "        for i in val_paths:\n",
    "            f = open(val_txt_path, 'a', encoding=\"utf-8\")\n",
    "            f.write(str(i) + '\\n')\n",
    "            f.close()\n",
    "        test_txt_path = os.path.join(split_save_path, 'test_fold' + str(fold_i)+'f'+str(foldi)+ '.txt')\n",
    "        for i in test_paths:\n",
    "            f = open(test_txt_path, 'a', encoding=\"utf-8\")\n",
    "            f.write(str(i) + '\\n')\n",
    "            f.close()"
   ]
  },
  {
   "cell_type": "code",
   "execution_count": null,
   "id": "e5dc3abc",
   "metadata": {},
   "outputs": [],
   "source": []
  }
 ],
 "metadata": {
  "kernelspec": {
   "display_name": "pytorch2.0",
   "language": "python",
   "name": "pytorch2.0"
  },
  "language_info": {
   "codemirror_mode": {
    "name": "ipython",
    "version": 3
   },
   "file_extension": ".py",
   "mimetype": "text/x-python",
   "name": "python",
   "nbconvert_exporter": "python",
   "pygments_lexer": "ipython3",
   "version": "3.11.3"
  }
 },
 "nbformat": 4,
 "nbformat_minor": 5
}
